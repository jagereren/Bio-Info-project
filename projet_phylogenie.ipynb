import numpy as np

# on rencontre une parenthèse ( on ajoute +1 et -1 quand )
# si on arrive à 0 ça veut dire qu'on a fini le premier bloc


def lire_separateur(seq): # fonction nickel
    # on construit en fonction de si c'est une feuille ou composée déjà existante
    # si on veut le faire avec les noms de séquences les parenthèses seront trompeuses donc à voir
    #print(seq)
    
    partie_seq1 = seq
    partie_seq2 = seq
    
    '''
    if(len(seq)==3): # ex : A,B
        # cas feuille simple
        partie_seq1 = seq1
        partie_seq2 = seq2
     
    else: # ex : (H,J),I
        # cas composé, let's gooo 
        # on compte le nbr n de parenthèses ouvrantes d'affilée, on s'arrête juste après la n-1 parenthèse fermante pour séparer en deux et lire 
        # p-ê changer de stratégie en ne comptant pas les parenthèses du début
    '''
    if(len(seq)>3):
        compteur_parentheses = 0
        for e in range(len(seq)) :
            if(e==0): # premier tour le compteur sera forcément à 0
                if(seq[e]=='('):
                    compteur_parentheses+=1
            elif(compteur_parentheses!=0):
                if(seq[e]=='('):
                    compteur_parentheses+=1
                elif(seq[e]==')'):
                    compteur_parentheses-=1
            elif(compteur_parentheses==0):
                partie_seq1 = "".join(seq[:e])   
                partie_seq2 = "".join(seq[e+1:])
                break
    return partie_seq1,partie_seq2 

def calcul_distance(md,s1,s2):
    pass

def min_matrice(md):
    dmin = np.nanmin(md)
    i,j = np.where(md == dmin)
    return dmin,i[0],j[0]   

def upgma(md): #plutôt avoir des anciens rmin et cmin plutôt que découper
    #noms_sequences = tuple(list(monDi.keys())) # tuple pour modifier plus facilement les données
    lettres = tuple(list('ABCDEFGHIJKLMNOPQRS'))
    md[md == 0] = np.nan
    
    # il faut garder une trace de l'ancienne matrice pour ensuite calculer la distance avec les données lues sur celle-ci, après lecture
    mdv = md
    mda = md
        
    lettresa = lettres
    lettresv = lettres
    
    print(lettres)
    
    while not np.isnan(mdv).all():
                            
        dmin_a,rmin_a,cmin_a = min_matrice(mda)  
        #dmin,rmin,cmin = min_matrice(mdv)
        
        mdv = np.delete(mda, cmin_a, axis = 0) # row
        mdv = np.delete(mdv, cmin_a, axis = 1) # col
                
        dmin_v,rmin_v,cmin_v = min_matrice(mdv)   
        
        
        if(cmin_a < rmin_a):
            rmin_a,cmin_a = cmin_a,rmin_a
        
        for col in range(0, mdv.shape[1]):
            if(rmin_a != cmin_a):
                mdv[rmin_v, col] = (mda[rmin_a][col] + mda[cmin_a, col])/2
            
        for row in range(0, mdv.shape[0]):
            if(rmin_a != cmin_a):
                mdv[row, cmin_v] = (mda[row, rmin_a] + mda[row, cmin_a])/2
        
        #print(mdv)
        
        # lettres sert juste à afficher
        lettresv = ['('+lettresa[rmin_a]+','+lettresa[cmin_a]+')' if lettresa[e] == lettresa[rmin_a] else lettresa[e] for e in range(0,len(lettresa))]
        lettresv.remove(lettresv[cmin_a])
        
        #print(lettresv)
        #noms_sequences = ['('+noms_sequences[rmin]+','+noms_sequences[cmin]+')' if noms_sequences[e] == noms_sequences[rmin] else noms_sequences[e] for e in range(0,len(noms_sequences))]
        #noms_sequences.remove(noms_sequences[cmin])
        mda = mdv

        lettresa = lettresv
        
        #print(rmin_a,cmin_a)
        #print(lettresv)
        #print(mdv)
        
    return 0

upgma(matrice_distance(monDi))
