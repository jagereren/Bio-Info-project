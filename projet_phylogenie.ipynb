{
 "cells": [
  {
   "cell_type": "markdown",
   "metadata": {},
   "source": [
    "# Projet phylogénétique\n",
    "Marine Djaffardjy (marine.djaffardjy@u-psud.fr)- Théophile Sanchez - Sarah Cohen Boulakia\n",
    "\n",
    "------\n",
    "\n",
    "## Introduction\n",
    "\n",
    "Au cours de ce projet, vous étudierez trois espèces disparues de félins qui vivaient autrefois sur le continent Américain. Ces trois espèces, le _smilodon_ (tigre à dents de sabre), l'_homotherium_ (_scimitar toothed tigers_) et _M. trumani_ (guépard américain) se sont éteintes il y a environ 13 000 ans, à la fin de la dernière période glaciaire. Des séquences ADN partielles de la protéine cytochrome b de ces espèces ont pu être séquencées et vont vous permettre de retrouver les liens de parentés entre ces espèces et des espèces de félins contemporaines : le chat domestique, le lion, le léopard, le tigre, le puma, le guépard et les chats sauvages africains, chinois et européens. Sont aussi présentes dans le jeu de donnée des séquences issues d'espèces extérieures aux félins.\n",
    "\n",
    "Afin de reconstruire l'arbre phylogénétique de ces espèces, vous utiliserez une méthode basée sur le calcul des distances évolutives entre les séquences ADN des protéines. Sachez qu'une démarche similaire peut-être appliquée aux séquences d'acides aminés.\n",
    "\n",
    "Les différentes étapes qui vous permetterons de construire l'arbre sont détaillées dans ce notebook. Vous devrez implémenter les algorithmes en Python et répondre aux questions dans les cellules prévues.\n",
    "\n",
    "Quelques conseils :\n",
    "- Utiliser au maximum les fonctions présentes dans les packages de python (sauf si il vous est explicitement demandé de les réimplémenter). Si un problème vous paraît courant, il existe surement déjà une fonction pour le résoudre. Pour ce projet vous serez limité aux packages de base, à Numpy et ETE (seulement pour l'affichage des arbres).\n",
    "- Si une partie de votre code ne vous semble pas très explicite, ajoutez des commentaires pour l'expliquer. Une personne qui lit votre code doit pouvoir comprendre son fonctionnement facilement.\n",
    "- N'hésitez pas à chercher dans la documentation et sur internet. Cependant, faites attention au plagiat !\n",
    "\n",
    "Le projet est à rendre **en binôme** par mail. Vous regrouperez votre notebook et les fichiers nécessaires à son fonctionnement dans une archive portant vos noms et prénoms."
   ]
  },
  {
   "cell_type": "markdown",
   "metadata": {},
   "source": [
    "------\n",
    "## Importation des séquences\n",
    "\n",
    "Le format FASTA permet de stocker plusieurs séquences (ADN, ARN ou peptidiques) dans un fichier. Les séquences que vous allez étudier ont été regroupées dans le fichier `cat_dna.fasta`.\n",
    "\n",
    "**Exercice 1 :** Écriver une fonction permettant d'importer un fichier au format fasta et de le stocker dans un dictionnaire. Les clés seront les noms des séquences et les valeurs du dictionnaire seront les séquences d'adn."
   ]
  },
  {
   "cell_type": "code",
   "execution_count": 1,
   "metadata": {},
   "outputs": [
    {
     "name": "stdout",
     "output_type": "stream",
     "text": [
      ">Sabertooth DNA (Smilodon)\n",
      "CTAATTAAAATTATCAACCACTCATTCATTGATTTACCCACCCCATCCAACATTTCAGCA\n",
      "TGATGAAACTTCGGCTCCTTATTAGGAGTGTGCTTAATCTTACAAATCCTCACTGGCTTA\n",
      "TTTCTAGCCATACATTATACACCAGATACAACAACCGCCTTCTCATCAGTTACCCACATT\n",
      "TGCCGTGATGA--ATTACGGCTGAATTATCCGAT--ATATACGCCAATGGAGCTTCCATA\n",
      "TTCTTCATCTGCCTATATATACATGTAGGTCGAGCATATACTAC\n",
      ">Homotherium DNA\n",
      "CTAATTAAAATCATCAACCAATCATTCATTGACTTACCTACCCCCTCCAACATCTCAGCA\n",
      "TGATGAAACTTCGGATCCCTACTAGGCATTTGCCTAATTCTTCAAATCCTCACAGGCTTA\n",
      "TTCCTAGCCATACACTACACATCAGACACAACAACTGC-TTCTCATCAATCGCCCATATT\n",
      "TGCCGTGACGTAAATTATGGTTGAATTATCCGATATATACACGCCAATGGAGCCTCTATA\n",
      "TTCTTCCTGTCTATACCT--ACATGTAGCTCGAGAATTTATTAC\n",
      ">American Cat DNA (Miracinonyx)\n",
      "CTTATTAAAATCATTAATCACTCATTCATTGATCTACCCACCCCATCCAACATTTCAGCA\n",
      "TGATGAAACTTCGGTTCCCTA-TAGGGGTCTGCCTAATCCTACAAATCCTAACCGGCCTC\n",
      "TTCCTGGCTATA--CAACACATCAGACACAATAACCGCCTTTTCATCAGTTACTCACATC\n",
      "TGTCGTGACGTCAATTACGGCTGAATTATTCGGTAT-TACACGCCAACGGAGCCTCCATA\n",
      "TTCTTTATCTGCCTATACATGCACGTAGGGCGAGAATATATTAC\n",
      ">Spotted Hyena DNA\n",
      "CTCATTAAAATTATCAACAAATCATTCATTGACCTCCCCACCCCATCCAACATCTCGGCA\n",
      "TGGTGAAATTTCGGGTCACTATTAGGAATCTGCTTAATCTTACAAATCCTGACAGGTCTA\n",
      "TTCCTAGCCATACACTACACATCAGACACAACAACCGCCTTCTCATCAGTGACCCACATC\n",
      "TGCCGAGACGTAAACTACGGCTGAATCATCCGATACATACACGCCAACGGAGCTTCCATA\n",
      "TTCTTCATCTGTCTATATATACATATCGGCCGAGAATATACTAC\n",
      ">Striped Hyena DNA\n",
      "CTCATTAAAATTGTCAACGAATCATTCATCGATCTCCCCACCCCATCCAACATCTCAGCA\n",
      "TGATGAAACTTCGGATCGCTATTAGGAATCTGCCTAATCTTACAGATTCTGACAGGCCTA\n",
      "TTTCTAGCCATACACTACACATCAGACACAACAACCGCCTTTTCATCAGTAACACACATC\n",
      "TGCCGAGACGTCAACTATGGCTGAATTATCCGATATATGCACGCCAACGGGGCCTCCATG\n",
      "TTTTTCATCTGCCTGTTCATGCACGCCGGCCGAGAATGTACTAC\n",
      ">Chinese Desert cat DNA\n",
      "CTTATTAAAATCATCAACCATTCATTCATTGACCTACCCACCCCATCCAACATCTCAGCA\n",
      "TGATGAAATTTCGGCTCCCTATTAGGAGTCTGCCTAATCTTACAAATTCTCACCGGCCTC\n",
      "TTTCTAGCCATACACTACACATCAGACACAGTAACCGCTTTTTCATCAGTTACTCACATC\n",
      "TGTCGCGATGTTAATTACGGCTGAATCATCCGATACATACACGCCAATGGAGCTTCCATA\n",
      "TTCTTTATCTGCCTATACATGCACGTAGGACGAGAATATATTAC\n",
      ">African wild cat DNA\n",
      "CTTATCAAAATTATTAATCACTCATTCATCGATCTACCCGCCCCATCTAACATCTCAGCA\n",
      "TGATGAAACTTCGGCTCCCTTCTAGGAGTCTGCCTAATCTTACAAATCCTCACCGGCCTC\n",
      "TTTTTGGCCATACACTACACATCAGACACAATAACCGCCTTTTCATCAGTTACCCACATC\n",
      "TGTCGCGACGTTAATTATGGCTGAATCATCCGATATTTACACGCCAACGGAGCTTCTATA\n",
      "TTCTTTATCTGCCTGTACATACACGTAGGACGGGAATATACTAC\n",
      ">Felis Cat A DNA\n",
      "CTTACCAAAATTATTAATCACTCATTCATCGACCTACCTGCCCCATCTAACATCTCAGCA\n",
      "TGATGAAACTTCGGCTCCCTTCTAGGAGTCTGCCTAATCTTACAAATCCTCACCGGCCTC\n",
      "TTTTTGGCCATACACTACACATCAGACACAACAACCGCCTTTTCATCAGTTACCCACATC\n",
      "TGTCGCGACGTTAATTATGGCTGAATCATCCGATATTTACACGCCAACGGAGCTTCTATA\n",
      "TTCTTTATCTGCCTGTACATACATGTAGGACGGGAATATACTAC\n",
      ">Wild Cat DNA\n",
      "CTTATCAAAATTATTAATCACTCATTCATCGACCTACCCGCCCCATCTAACATCTCAGCA\n",
      "TGATGAAACTTCGGCTCCCTTCTAGGAGTCTGCCTAATCTTACAAATCCTCACCGGCCTC\n",
      "TTTTTGGCCATACACTACACATCAGACACAATAACCGCCTTTTCATCAGTTACCCACATC\n",
      "TGTCGCGACGTTAATTATGGCTGAATCATCCGATATTTACACGCCAACGGAGCTTCTATA\n",
      "TTCTTTATCTGCCTGTACATACATGTGGGACGGGAATATACTAC\n",
      ">Cheetah DNA\n",
      "CTTATCAAAATCGTTAATCACTCATTCATCGATTTACCCACCCCACCTAACATTTCAGCA\n",
      "TGATGAAACTTCGGCTCCCTACTAGGAGTCTGCCTAGTCCTACAGATCCTAACCGGCCTT\n",
      "TTCCTAGCCATACACTACACATCAGACACAATAACCGCCTTTTCATCAGTTACTCACATC\n",
      "TGCCGCGACGTCAACTACGGCTGAATTATTCGATACATGCACGCCAACGGAGCCTCTATA\n",
      "TTCTTTATCTGCCTATACATGCATGTAGGACGAGAATATACTAC\n",
      ">Puma DNA\n",
      "CTTATCAAAATCATTAATCACTCATTTATTGATTTACCCACCCCATCCAACATTTCAGCA\n",
      "TGATGAAACTTTGGCTCCCTACTAGGGGTCTGCCTAATCCTACAAATCCTAACCGGCCTC\n",
      "TTCCTGGCCATACACTATACATCAGACACAATGACTGCCTTTTCATCAGTCACTCACATC\n",
      "TGTCGTGACGTTAACTACGGCTGAATTATTCGGTACATACATGCCAACGGAGCCTCCATA\n",
      "TTCTTTATCTGCCTATACATGCACGTGGGACGAGAATATATTAT\n",
      ">Tiger DNA\n",
      "CTTATCAAAATTATTAATCACTCATTTATTGACCTACCCGCCCCATCCAATATTTCAGCA\n",
      "TGATGAAACTTTGGCTCCTTACTAGGGGTGTGCTTAATCTTACAAATCCTCACTGGCCTC\n",
      "TTTCTAGCCATACACTACACATCAGACACAATAACCGCATTCTCATCAGTTACCCACATT\n",
      "TGCCGCGACGTAAACTACGGCTGGATTATCCGATATCTACATGCCAACGGAGCCTCCATA\n",
      "TTCTTTATCTGTCTATACATGCACGTAGGACGAGAATATACTAC\n",
      ">Lion DNA\n",
      "CTTGTCAAAATTATTAATCACTCATTCATTGATCTTCCCACTCCACCCAATATCTCAGCA\n",
      "TGATGAAACTTTGGCTCCTTATTAGGAGTATGTTTAATCCTACAAATTCTCACCGGCCTC\n",
      "TTTCTAGCCATACATTACACACCAGACACAATAACCGCTTTCTCATCAGTCACCCACATT\n",
      "TGCCGCGATGTAAACTATGGCTGAATTATCCGGTACCTACACGCCAACGGAGCCTCCATA\n",
      "TTCTTTATCTGCCTATACATGCATGTAGGACGAGAATATACTAT\n",
      ">Leopard DNA\n",
      "CTCATCAAAATTATTAATCACTCATTCATTGATCTCCCCGCTCCATCCAACATCTCAACA\n",
      "TGATGGAACTTTGGCTCCCTATTAGGGGTATGTTTAATCCTACAAATTCTCACCGGCCTC\n",
      "TTTCTAGCCATACATTATACATCAGACACAACAACCGCTTTCTCATCAGTTACCCATATC\n",
      "TGCCGCGATGTAAATTATGGCTGAATTATCCGGTATCTACACGCCAATGGAGCCTCCATA\n",
      "TTCTTTATCTGCCTATACATACATGTAGGACGAGGATATACTAT\n",
      ">Dog DNA\n",
      "CTAGCCAAAATTGTTAATAACTCATTCATTGACCTCCCAGCGCCGTCTAACATCTCTGCT\n",
      "TGATGGAACTTCGGATCCTTACTAGGAGTATGCTTGATTCTACAGATTCTAACAGGTTTA\n",
      "TTCTTAGCTATGCACTATACATCGGACACAGCCACAGCTTTTTCATCAGTCACCCACATC\n",
      "TGCCGAGACGTTAACTACGGCTGAATTATCCGCTATATGCACGCAAATGGCGCTTCCATA\n",
      "TTCTTTATCTGCCTATTCCTACATGTAGGACGAGCCTATATTAC\n",
      ">Wolf DNA\n",
      "CTAGCCAAAATTGTTAATAACTCATTCATTGACCTCCCAGCGCCGTCTAACATCTCTGCT\n",
      "TGATGGAACTTCGGATCCTTACTAGGAGTATGCTTGATTCTACAGATTCTAACAGGTTTA\n",
      "TTCTTAGCTATGCACTATACATCGGACACAGCCACAGCTTTTTCATCAGTCACCCACATC\n",
      "TGCCGAGACGTTAACTACGGCTGAATTATCCGCTATATGCACGCAAATGGCGCTTCCATA\n",
      "TTCTTTATCTGCCTATTCCTACATGTAGGACGAGCCTATATTAC\n",
      ">Black Bear DNA\n",
      "TTAGCTAAAATCATCAACAACTCACTCATTGATCTCCCAGCACCATCAAATATCTCAGCA\n",
      "TGATGAAACTTCGGGTCCCTCCTCGGAGTATGTTTAGTACTACAAATTCTAACGGGCCTA\n",
      "TTCCTAGCTATACACTATACATCAGACACAACTACAGCCTTTTCATCAATCACCCATATT\n",
      "TGCCGAGATGTTCACTACGGATGAATTATCCGATACATACATGCTAACGGAGCTTCCATA\n",
      "TTCTTTATCTGCCTGTTCATGCACGTAGGACGGGTCTGTACTAT\n",
      ">Brown Bear DNA\n",
      "TTAGCTAAAATCATCAACAACTCATTTATTGACCTTCCAACACCATCAAACATCTCAGCA\n",
      "TGATGAAACTTTGGATCCCTCCTTGGAGTATGTTTAATTCTACAGATTCTAACAGGCCTG\n",
      "TTCCTAGCCATACACTATACACCAGACACAACCACAGCTTTTTCATCGGTCACCCACATT\n",
      "TGCCGAGACGTTCACTACGGGTGAGTTATCCGATATGTACATGCAAATGGAGCCTCCATC\n",
      "TTCTTTATCTGCCTATTTATGCACTAGGACGGGGCCTGTACTAT\n",
      ">Cave Bear DNA\n",
      "TTAGCTAAAATCATCAACAACTCATTTATTGACCTCCCAACACCATCAAACATCTCAGCA\n",
      "TGATGAAACTTTGGATCCCTCCTCGGAGTATGCTTAATTCTACAGATCCTAACAGGCCTG\n",
      "TTTCTAGCTATACACTACACATCAGACACAACCACAGCCTTTTCATCAATCACCCATATT\n",
      "TGCCGAGACGTTCACTACGGTTGAGTTATCCGATATATACATGCAAACGGAGCCTCCATA\n",
      "TTCTTTATCTGTCTATTCATGCACTAGGACGGGGCCTATACTAT\n"
     ]
    }
   ],
   "source": [
    "def importe_fasta(nom):\n",
    "    dicti={}\n",
    "    o = open(nom,'r')\n",
    "    r = o.read()\n",
    "    groupes = r.split(\"\\n\\n\")\n",
    "    for groupe in groupes:\n",
    "        groupe_separe =groupe.split(\"\\n\",1)\n",
    "        cle= groupe_separe[0]\n",
    "        donnee = groupe_separe[1].strip()\n",
    "        dicti[cle] = donnee\n",
    "    return dicti\n",
    "\n",
    "monDi = importe_fasta('fasta/msa_cat_dna.fasta')\n",
    "\n",
    "for valeur in monDi:\n",
    "    print(valeur)\n",
    "    print(monDi[valeur])"
   ]
  },
  {
   "cell_type": "markdown",
   "metadata": {},
   "source": [
    "------\n",
    "## Alignement des séquences\n",
    "\n",
    "La méthode que vous utiliserez pour calculer l'arbre phylogénétique nécessite de calculer la distance évolutive entre les séquences. Avant de pouvoir les calculer, il faut d'abord aligner les séquences en considérant trois types de mutations :\n",
    "- les substitutions (un nucléotide est remplacé par un autre)\n",
    "- les insertions\n",
    "- les délétions\n",
    "Par exemple, les séquences \"ACTCCTGA\" et \"ATCTCGTGA\" ont plusieurs alignements possibles : \n",
    "\n",
    "$A_1$ :\n",
    "```\n",
    "-ACTCCTGA\n",
    "ATCTCGTGA\n",
    "```\n",
    "\n",
    "$A_2$ :\n",
    "```\n",
    "A-CTCCTGA\n",
    "ATCTCGTGA\n",
    "```\n",
    "\n",
    "$A_3$ :\n",
    "```\n",
    "AC-TCCTGA\n",
    "ATCTCGTGA\n",
    "```\n",
    ".\n",
    "\n",
    ".\n",
    "\n",
    ".\n",
    "\n",
    "Le \"-\" désigne un *gap*, c'est à dire un \"trou\" dans l'alignement qui a été causé par une insertion ou une déletion. On regroupe ces deux types de mutations sous le terme indel.\n",
    "\n",
    "Ces alignements correspondent à une multitude d'histoires phylogénétiques différentes. Pour sélectionner le meilleur alignement il faut donc introduire l'hypothèse du maximum de parcimonie qui privilégie l'histoire phylogénétique qui implique le moins d'hypothèses et donc, le moins de changements évolutifs. Par exemple, parmis les trois alignements ci-dessus on preferera l'alignement 2 car il correspond au scénario avec le moins de mutations:\n",
    "- l'alignement 1 implique au minimum 1 indel et 2 substitutions\n",
    "- l'alignement 2 implique au minimum 1 indel et 1 substitutions\n",
    "- l'alignement 3 implique au minimum 1 indel et 2 substitutions\n",
    "\n",
    "On peut maintenant définir un score d'identité que l'on va augmenter de 1 lorsque qu'il n'y pas eu de mutation et ainsi obtenir la matrice suivante :\n",
    "\n",
    "|   &nbsp;   | A | C | G | T | - |\n",
    "|   -   | - | - | - | - | - |\n",
    "| **A** | 1 | 0 | 0 | 0 | 0 |\n",
    "| **C** | 0 | 1 | 0 | 0 | 0 |\n",
    "| **G** | 0 | 0 | 1 | 0 | 0 |\n",
    "| **T** | 0 | 0 | 0 | 1 | 0 |\n",
    "| **-** | 0 | 0 | 0 | 0 | 0 |\n",
    "\n",
    "Cette matrice correspond au modèle d'évolution de l'ADN défini par Jukes et Cantor qui fait l'hypothèse d'un taux de mutation équivalent pour chacun des nucléotides. Cependant, en réalité ces taux ne sont pas les mêmes partout, on sait par exemple que le taux de transition (substitution A$\\leftrightarrow$G ou C$\\leftrightarrow$T) est différent du taux de transversions (substitution A$\\leftrightarrow$T, C$\\leftrightarrow$G, C$\\leftrightarrow$A ou G$\\leftrightarrow$T) et que d'autres facteurs devrait être pris en compte comme la fréquence du nucléotide dans l'ADN. [C'est pour cette raison qu'il existe beaucoup de modèles différents d'écrivant l'évolution de l'ADN.](https://en.wikipedia.org/wiki/Models_of_DNA_evolution) Dans la suite de ce projet nous utiliserons la matrice de similarité $S$ suivante : \n",
    "\n",
    "|   &nbsp;   | A  | C  | G  | T  | -  |\n",
    "|   -   | -  | -  | -  | -  | -  |\n",
    "| **A** | 10 | -1 | -3 | -4 | -5 |\n",
    "| **C** | -1 | 7  | -5 | -3 | -5 |\n",
    "| **G** | -3 | -5 | 9  | 0  | -5 |\n",
    "| **T** | -4 | -3 | 0  | 8  | -5 |\n",
    "| **-** | -5 | -5 | -5 | -5 | 0  |\n",
    "\n",
    "**Exercice 2 :** Écriver la fonction permettant de calculer le score entre deux alignements avec la matrice de similarité précédente puis afficher le score des trois alignements $A_1$, $A_2$ et $A_3$. La classe permettant d'importer une matrice et de calculer le score entre deux lettres vous est déjà fournie, la matrice de similarité est stockée dans le fichier `dna_matrix` :\n"
   ]
  },
  {
   "cell_type": "code",
   "execution_count": 2,
   "metadata": {},
   "outputs": [
    {
     "name": "stdout",
     "output_type": "stream",
     "text": [
      "Score between G and C: -5.0\n",
      "Score between A and a gap: -5.0\n"
     ]
    }
   ],
   "source": [
    "import numpy as np\n",
    "\n",
    "\n",
    "class SimilarityMatrix:\n",
    "    def __init__(self, filename):\n",
    "        with open(filename) as f:\n",
    "            self.letters = f.readline().split()\n",
    "            self.values = np.loadtxt(filename, skiprows=1, usecols=range(1, len(self.letters) + 1))\n",
    "        \n",
    "    def score(self, letter1, letter2): # return the similarity score between letter1 and letter2\n",
    "        return self.values[self.letters.index(letter1)][self.letters.index(letter2)]\n",
    "    \n",
    "# Example\n",
    "similarity_matrix = SimilarityMatrix('dna_matrix')\n",
    "print('Score between G and C:', similarity_matrix.score('G', 'C'))\n",
    "print('Score between A and a gap:', similarity_matrix.score('-', 'A'))"
   ]
  },
  {
   "cell_type": "code",
   "execution_count": 3,
   "metadata": {},
   "outputs": [
    {
     "name": "stdout",
     "output_type": "stream",
     "text": [
      "21.0\n"
     ]
    }
   ],
   "source": [
    "def score_aligns(self,a1,a2):\n",
    "    score = 0\n",
    "    #for letter1,i in enumerate(list(a1)): # soit ça soit la méthode de i plus bas\n",
    "    i=-1\n",
    "    for letter in list(a1):\n",
    "        i+=1\n",
    "        score += self.values[self.letters.index(letter)][self.letters.index(list(a2)[i])]\n",
    "    print(score)\n",
    "    \n",
    "score_aligns(similarity_matrix,'ATTC','ATAC')"
   ]
  },
  {
   "cell_type": "markdown",
   "metadata": {},
   "source": [
    "------\n",
    "### Algorithme de Needleman-Wunsch\n",
    "\n",
    "Maintenant que vous avez vu ce qu'est une matrice de similarité et comment calculer le score de similarité d'un alignement, vous allez devoir implémenter un algorithme permettant de trouver le meilleur alignement global entre deux séquences. Avec deux séquences à aligner de taille $n$ et $m$, la première étape consiste à initialiser deux matrices de taille $(n+1) \\times (m+1)$. La première est la matrice de score $M$ et la seconde sera la matrice de *traceback* $T$. \n",
    "\n",
    "Par exemple, avec la matrice $S$ et les séquences $A =$ \"ACTCCTGA\" et $B =$ \"ATCTCGTGA\", on initialise $M$ comme si l'on ajoutait des *gaps* partout :\n",
    "\n",
    "|   &nbsp;   | - | A | T | C | T | C | G | T | G | A |\n",
    "|   -   | - | - | - | - | - | - | - | - | - | - |\n",
    "| **-** | 0 |-5 |-10|-15|-20|-25|-30|-35|-40|-45|\n",
    "| **A** |-5 | &nbsp; | &nbsp; | &nbsp; | &nbsp; | &nbsp; | &nbsp; | &nbsp; | &nbsp; | &nbsp; |\n",
    "| **C** |-10| &nbsp; | &nbsp; | &nbsp; | &nbsp; | &nbsp; | &nbsp; | &nbsp; | &nbsp; | &nbsp; |\n",
    "| **T** |-15| &nbsp; | &nbsp; | &nbsp; | &nbsp; | &nbsp; | &nbsp; | &nbsp; | &nbsp; | &nbsp; |\n",
    "| **C** |-20| &nbsp; | &nbsp; | &nbsp; | &nbsp; | &nbsp; | &nbsp; | &nbsp; | &nbsp; | &nbsp; |\n",
    "| **C** |-25| &nbsp; | &nbsp; | &nbsp; | &nbsp; | &nbsp; | &nbsp; | &nbsp; | &nbsp; | &nbsp; |\n",
    "| **T** |-30| &nbsp; | &nbsp; | &nbsp; | &nbsp; | &nbsp; | &nbsp; | &nbsp; | &nbsp; | &nbsp; |\n",
    "| **G** |-45| &nbsp; | &nbsp; | &nbsp; | &nbsp; | &nbsp; | &nbsp; | &nbsp; | &nbsp; | &nbsp; |\n",
    "| **A** |-40| &nbsp; | &nbsp; | &nbsp; | &nbsp; | &nbsp; | &nbsp; | &nbsp; | &nbsp; | &nbsp; ||\n",
    "\n",
    "Puis on initialise $T$ :\n",
    "\n",
    "|   &nbsp;   | - | A | T | C | T | C | G | T | G | A |\n",
    "|   -   | - | - | - | - | - | - | - | - | - | - |\n",
    "| **-** | o | l | l | l | l | l | l | l | l | l |\n",
    "| **A** | u | &nbsp; | &nbsp; | &nbsp; | &nbsp; | &nbsp; | &nbsp; | &nbsp; | &nbsp; | &nbsp; |\n",
    "| **C** | u | &nbsp; | &nbsp; | &nbsp; | &nbsp; | &nbsp; | &nbsp; | &nbsp; | &nbsp; | &nbsp; |\n",
    "| **T** | u | &nbsp; | &nbsp; | &nbsp; | &nbsp; | &nbsp; | &nbsp; | &nbsp; | &nbsp; | &nbsp; |\n",
    "| **C** | u | &nbsp; | &nbsp; | &nbsp; | &nbsp; | &nbsp; | &nbsp; | &nbsp; | &nbsp; | &nbsp; |\n",
    "| **C** | u | &nbsp; | &nbsp; | &nbsp; | &nbsp; | &nbsp; | &nbsp; | &nbsp; | &nbsp; | &nbsp; |\n",
    "| **T** | u | &nbsp; | &nbsp; | &nbsp; | &nbsp; | &nbsp; | &nbsp; | &nbsp; | &nbsp; | &nbsp; |\n",
    "| **G** | u | &nbsp; | &nbsp; | &nbsp; | &nbsp; | &nbsp; | &nbsp; | &nbsp; | &nbsp; | &nbsp; |\n",
    "| **A** | u | &nbsp; | &nbsp; | &nbsp; | &nbsp; | &nbsp; | &nbsp; | &nbsp; | &nbsp; | &nbsp; ||\n",
    "\n",
    "\n",
    "Il faut ensuite remplir la matrice $M$ en suivant la formule $M_{ij} = \\max(M_{i-1j-1} + s(A_i, B_j), M_{ij-1} + s(A_i, gap), M_{i-1j} + s(B_j,gap) )$ avec $i \\in {2, \\dots, n+1}$, $j \\in {2, \\dots, m+1}$ et la fonction $s$ qui calcule le score de similarité entre deux nucléotides. Pour chaque case de $T$ on remplie par :\n",
    "- 'd' (*diagonal*) si $M_{ij}$ a été calculé en utilisant la diagonale $M_{i-1j-1}$,\n",
    "- 'l' (*left*) si $M_{ij}$ a été calculé en utilisant la case de gauche $M_{ij-1}$,\n",
    "- 'u' (*up*) si $M_{ij}$ a été calculé en utilisant la case du haut $M_{i-1j}$.\n",
    "\n",
    "On obtient alors les matrices suivantes $M$ et $T$ : \n",
    "\n",
    "|   &nbsp;   | - | A | T | C | T | C | G | T | G | A |\n",
    "|   -   | - | - | - | - | - | - | - | - | - | - |\n",
    "| **-** |  0| -5|-10|-15|-20|-25|-30|-35|-40|-45|\n",
    "| **A** | -5| 10|  5|  0| -5|-10|-15|-20|-25|-30|\n",
    "| **C** |-10|  5|  7| 12|  7|  2| -3| -8|-13|-18|\n",
    "| **T** |-15|  0| 13|  8| 20| 15| 10|  5|  0| -5|\n",
    "| **C** |-20| -5|  8| 20| 15| 27| 22| 17| 12|  7|\n",
    "| **C** |-25|-10|  3| 15| 17| 22| 22| 19| 14| 11|\n",
    "| **T** |-30|-15| -2| 10| 23| 18| 22| 30| 25| 20|\n",
    "| **G** |-35|-20| -7|  5| 18| 18| 27| 25| 39| 34|\n",
    "| **A** |-40|-25|-12|  0| 13| 17| 22| 23| 34| 49|\n",
    "\n",
    "|   &nbsp;   | - | A | T | C | T | C | G | T | G | A |\n",
    "|   -   | - | - | - | - | - | - | - | - | - | - |\n",
    "| **-** | o | l | l | l | l | l | l | l | l | l |\n",
    "| **A** | u | d | l | l | l | l | l | l | l | d |\n",
    "| **C** | u | u | d | d | l | d | l | l | l | l |\n",
    "| **T** | u | u | d | l | d | l | l | d | l | l |\n",
    "| **C** | u | u | u | d | l | d | l | l | l | l |\n",
    "| **C** | u | u | u | d | d | d | d | d | l | d |\n",
    "| **T** | u | u | d | u | d | l | d | d | l | l |\n",
    "| **G** | u | u | u | u | u | d | d | u | d | l |\n",
    "| **A** | u | d | u | u | u | d | u | d | u | d |\n",
    "\n",
    "Il suffit maintenant de regarder le dernier élément $M_{nm} = 49$ pour avoir le score de l'alignement. Pour avoir l'alignement lui-même, il faut partir de $T_{nm}$ et remonter la \"trace\" jusqu'à arriver au 'o'. Un 'd' correspond à un *match* entre les deux séquences, 'l' à un *gap* dans la séquence $A$ et 'u' à un *gap* dans la séquence $B$. En revenant à l'exemple précédent on obtient la trace suivante :\n",
    "\n",
    "|   &nbsp;   | - | A | T | C | T | C | G | T | G | A |\n",
    "|   -   | - | - | - | - | - | - | - | - | - | - |\n",
    "| **-** | o | &nbsp; | &nbsp; | &nbsp; | &nbsp; | &nbsp; | &nbsp; | &nbsp; | &nbsp; | &nbsp; |\n",
    "| **A** | &nbsp; | d | l | &nbsp; | &nbsp; | &nbsp; | &nbsp; | &nbsp; | &nbsp; | &nbsp; |\n",
    "| **C** | &nbsp; | &nbsp; | &nbsp; | d | &nbsp; | &nbsp; | &nbsp; | &nbsp; | &nbsp; | &nbsp; |\n",
    "| **T** | &nbsp; | &nbsp; | &nbsp; | &nbsp; | d | &nbsp; | &nbsp; | &nbsp; | &nbsp; | &nbsp; |\n",
    "| **C** | &nbsp; | &nbsp; | &nbsp; | &nbsp; | &nbsp; | d | &nbsp; | &nbsp; | &nbsp; | &nbsp; |\n",
    "| **C** | &nbsp; | &nbsp; | &nbsp; | &nbsp; | &nbsp; | &nbsp; | d | &nbsp; | &nbsp; | &nbsp; |\n",
    "| **T** | &nbsp; | &nbsp; | &nbsp; | &nbsp; | &nbsp; | &nbsp; | &nbsp; | d | &nbsp; | &nbsp; |\n",
    "| **G** | &nbsp; | &nbsp; | &nbsp; | &nbsp; | &nbsp; | &nbsp; | &nbsp; | &nbsp; | d | &nbsp; |\n",
    "| **A** | &nbsp; | &nbsp; | &nbsp; | &nbsp; | &nbsp; | &nbsp; | &nbsp; | &nbsp; | &nbsp; | d |\n",
    "\n",
    "Elle correspond à l'alignement :\n",
    "```\n",
    "A-CTCCTGA\n",
    "ATCTCGTGA\n",
    "```\n",
    "\n",
    "**Exercice 3 :** Implémenter l'algorithme de Needlman et Wunsch. Il prendra en paramètre deux séquences et une matrice de similarité et retournera leur alignement. Tester le avec les séquences \"ACTCCTGA\" et \"ATCTCGTGA\"."
   ]
  },
  {
   "cell_type": "code",
   "execution_count": 4,
   "metadata": {},
   "outputs": [
    {
     "name": "stdout",
     "output_type": "stream",
     "text": [
      "Matrice de score : \n",
      "\n",
      "[['0' '-' 'A' 'T' 'C' 'T' 'C' 'G' 'T' 'G' 'A']\n",
      " ['-' '0' '-5' '-10' '-15' '-20' '-25' '-30' '-35' '-40' '-45']\n",
      " ['A' '-5' '10.0' '5.0' '0.0' '-5.0' '-10.0' '-15.0' '-20.0' '-25.0'\n",
      "  '-30.0']\n",
      " ['C' '-10' '5.0' '7.0' '12.0' '7.0' '2.0' '-3.0' '-8.0' '-13.0' '-18.0']\n",
      " ['T' '-15' '0.0' '13.0' '8.0' '20.0' '15.0' '10.0' '5.0' '0.0' '-5.0']\n",
      " ['C' '-20' '-5.0' '8.0' '20.0' '15.0' '27.0' '22.0' '17.0' '12.0' '7.0']\n",
      " ['C' '-25' '-10.0' '3.0' '15.0' '17.0' '22.0' '22.0' '19.0' '14.0'\n",
      "  '11.0']\n",
      " ['T' '-30' '-15.0' '-2.0' '10.0' '23.0' '18.0' '22.0' '30.0' '25.0'\n",
      "  '20.0']\n",
      " ['G' '-35' '-20.0' '-7.0' '5.0' '18.0' '18.0' '27.0' '25.0' '39.0'\n",
      "  '34.0']\n",
      " ['A' '-40' '-25.0' '-12.0' '0.0' '13.0' '17.0' '22.0' '23.0' '34.0'\n",
      "  '49.0']]\n",
      "\n",
      "Matrice de traceback : \n",
      "\n",
      "[['0' '-' 'A' 'T' 'C' 'T' 'C' 'G' 'T' 'G' 'A']\n",
      " ['-' 'u' 'l' 'l' 'l' 'l' 'l' 'l' 'l' 'l' 'l']\n",
      " ['A' 'u' 'd' 'l' 'l' 'l' 'l' 'l' 'l' 'l' 'd']\n",
      " ['C' 'u' 'u' 'd' 'd' 'l' 'd' 'l' 'l' 'l' 'l']\n",
      " ['T' 'u' 'u' 'd' 'l' 'd' 'l' 'l' 'd' 'l' 'l']\n",
      " ['C' 'u' 'u' 'u' 'd' 'u' 'd' 'l' 'l' 'l' 'l']\n",
      " ['C' 'u' 'u' 'u' 'd' 'd' 'd' 'd' 'd' 'l' 'd']\n",
      " ['T' 'u' 'u' 'd' 'u' 'd' 'l' 'd' 'd' 'l' 'l']\n",
      " ['G' 'u' 'u' 'u' 'u' 'u' 'd' 'd' 'u' 'd' 'l']\n",
      " ['A' 'u' 'd' 'u' 'u' 'u' 'd' 'u' 'd' 'u' 'd']]\n"
     ]
    }
   ],
   "source": [
    "def needlman_wunsch(similarity_matrix,a1,a2):\n",
    "    matrice_score = [ [ 0 for i in range(len(a1)+2) ] for j in range(len(a2)+2) ] # Colonnes puis lignes\n",
    "    matrice_traceback = [ [ 0 for i in range(len(a1)+2) ] for j in range(len(a2)+2) ] # Colonnes puis lignes\n",
    "\n",
    "\n",
    "    matrice_score[0][1] = '-'\n",
    "    matrice_score[1][0] = '-'\n",
    "    matrice_traceback[0][1] = '-'\n",
    "    matrice_traceback[1][0] = '-'\n",
    "\n",
    "    for i in range (2,len(a1)+2):\n",
    "        matrice_score[0][i] = list(a1)[i-2]\n",
    "        matrice_traceback[0][i] = list(a1)[i-2]\n",
    "    for i2 in range (2,len(a2)+2):\n",
    "        matrice_score[i2][0] = list(a2)[i2-2]\n",
    "        matrice_traceback[i2][0] = list(a2)[i2-2]\n",
    "\n",
    "\n",
    "\n",
    "    # Initialisation valeurs gap\n",
    "\n",
    "\n",
    "    for col in range(1,len(a1)+2):\n",
    "        matrice_score[1][col] = -5*(col-1)\n",
    "        matrice_traceback[1][col]='l'\n",
    "    for lig in range(1,len(a2)+2):\n",
    "        matrice_score[lig][1] = -5*(lig-1)\n",
    "        matrice_traceback[lig][1] = 'u'\n",
    "\n",
    "    for elemc in range(2,len(a1)+2): \n",
    "        for eleml in range(2,len(a2)+2):\n",
    "            letter1 = matrice_score[0][elemc]\n",
    "            letter2 = matrice_score[eleml][0]\n",
    "\n",
    "            m1 = matrice_score[eleml-1][elemc-1]+similarity_matrix.values[similarity_matrix.letters.index(letter1)][similarity_matrix.letters.index(letter2)]\n",
    "            m2 = matrice_score[eleml-1][elemc] + similarity_matrix.values[similarity_matrix.letters.index(letter1)][similarity_matrix.letters.index('-')]\n",
    "            m3 = matrice_score[eleml][elemc-1] + similarity_matrix.values[similarity_matrix.letters.index(letter2)][similarity_matrix.letters.index('-')]\n",
    "\n",
    "\n",
    "            matrice_score[eleml][elemc] = max(matrice_score[eleml-1][elemc-1]+\n",
    "                            similarity_matrix.values[similarity_matrix.letters.index(letter1)][similarity_matrix.letters.index(letter2)] ,\n",
    "                            matrice_score[eleml-1][elemc] + \n",
    "                            similarity_matrix.values[similarity_matrix.letters.index(letter1)][similarity_matrix.letters.index('-')] ,\n",
    "                \n",
    "            matrice_score[eleml][elemc-1] + \n",
    "                            similarity_matrix.values[similarity_matrix.letters.index(letter2)][similarity_matrix.letters.index('-')])\n",
    "\n",
    "            ma = matrice_score[eleml][elemc]\n",
    "\n",
    "            if(ma==m1):\n",
    "                matrice_traceback[eleml][elemc] = 'd'\n",
    "            elif(ma==m2):\n",
    "                matrice_traceback[eleml][elemc] = 'u'\n",
    "            else:\n",
    "                matrice_traceback[eleml][elemc] = 'l'\n",
    "\n",
    "    print('Matrice de score : \\n')\n",
    "    print(np.array(matrice_score))  \n",
    "    print('\\nMatrice de traceback : \\n')\n",
    "    print(np.array(matrice_traceback))  \n",
    "\n",
    "\n",
    "needlman_wunsch(similarity_matrix, 'ATCTCGTGA', 'ACTCCTGA')"
   ]
  },
  {
   "cell_type": "markdown",
   "metadata": {},
   "source": [
    "##### ----\n",
    "## Matrice de distance\n",
    "\n",
    "Dans le cas de séquences très proches, on estime que la distance évolutive réelle entre les séquences est proche de la p-distance qui est simplement le nombre de substitution dans l'alignement sur le nombre total de nucléotide. Pour simplifier, on ignore les positions alignées à des gaps. On applique ensuite la correction de Jukes-Cantor afin de prendre en compte le phénomène de saturation (un même site peut muter plusieurs fois au cours du temps). Sa formule est $-(\\frac{3}{4})\\ln(1-(\\frac{4}{3})\\times \\textit{p-distance})$.\n",
    "\n",
    "**Exercice 4 :** Implémenter la fonction retournant la matrice de distance à partir d'un dictionnaire de séquences. "
   ]
  },
  {
   "cell_type": "code",
   "execution_count": 5,
   "metadata": {},
   "outputs": [
    {
     "name": "stdout",
     "output_type": "stream",
     "text": [
      "[[-0.    0.26  0.25  0.24  0.24  0.24  0.26  0.27  0.26  0.26  0.26  0.23\n",
      "   0.23  0.25  0.27  0.22  0.22  0.12  0.07]\n",
      " [ 0.26 -0.    0.18  0.16  0.15  0.19  0.14  0.17  0.17  0.17  0.17  0.19\n",
      "   0.14  0.15  0.15  0.25  0.25  0.24  0.26]\n",
      " [ 0.25  0.18 -0.    0.21  0.19  0.23  0.21  0.24  0.23  0.23  0.23  0.23\n",
      "   0.23  0.25  0.23  0.28  0.28  0.29  0.29]\n",
      " [ 0.24  0.16  0.21 -0.    0.18  0.18  0.1   0.11  0.13  0.12  0.09  0.07\n",
      "   0.12  0.15  0.15  0.25  0.25  0.24  0.28]\n",
      " [ 0.24  0.15  0.19  0.18 -0.    0.13  0.15  0.18  0.18  0.18  0.19  0.21\n",
      "   0.18  0.2   0.2   0.25  0.25  0.25  0.27]\n",
      " [ 0.24  0.19  0.23  0.18  0.13 -0.    0.17  0.18  0.19  0.18  0.16  0.22\n",
      "   0.21  0.21  0.21  0.26  0.26  0.25  0.26]\n",
      " [ 0.26  0.14  0.21  0.1   0.15  0.17 -0.    0.1   0.12  0.11  0.13  0.13\n",
      "   0.14  0.14  0.15  0.25  0.25  0.23  0.27]\n",
      " [ 0.27  0.17  0.24  0.11  0.18  0.18  0.1  -0.    0.02  0.01  0.11  0.14\n",
      "   0.12  0.15  0.15  0.25  0.25  0.24  0.3 ]\n",
      " [ 0.26  0.17  0.23  0.13  0.18  0.19  0.12  0.02 -0.    0.01  0.12  0.16\n",
      "   0.13  0.17  0.15  0.23  0.23  0.24  0.29]\n",
      " [ 0.26  0.17  0.23  0.12  0.18  0.18  0.11  0.01  0.01 -0.    0.12  0.14\n",
      "   0.12  0.16  0.15  0.24  0.24  0.26  0.3 ]\n",
      " [ 0.26  0.17  0.23  0.09  0.19  0.16  0.13  0.11  0.12  0.12 -0.    0.1\n",
      "   0.14  0.15  0.18  0.23  0.23  0.24  0.29]\n",
      " [ 0.23  0.19  0.23  0.07  0.21  0.22  0.13  0.14  0.16  0.14  0.1  -0.\n",
      "   0.12  0.15  0.17  0.26  0.26  0.23  0.24]\n",
      " [ 0.23  0.14  0.23  0.12  0.18  0.21  0.14  0.12  0.13  0.12  0.14  0.12\n",
      "  -0.    0.1   0.13  0.26  0.26  0.25  0.26]\n",
      " [ 0.25  0.15  0.25  0.15  0.2   0.21  0.14  0.15  0.17  0.16  0.15  0.15\n",
      "   0.1  -0.    0.08  0.25  0.25  0.22  0.24]\n",
      " [ 0.27  0.15  0.23  0.15  0.2   0.21  0.15  0.15  0.15  0.15  0.18  0.17\n",
      "   0.13  0.08 -0.    0.23  0.23  0.23  0.27]\n",
      " [ 0.22  0.25  0.28  0.25  0.25  0.26  0.25  0.25  0.23  0.24  0.23  0.26\n",
      "   0.26  0.25  0.23 -0.   -0.    0.22  0.23]\n",
      " [ 0.22  0.25  0.28  0.25  0.25  0.26  0.25  0.25  0.23  0.24  0.23  0.26\n",
      "   0.26  0.25  0.23 -0.   -0.    0.22  0.23]\n",
      " [ 0.12  0.24  0.29  0.24  0.25  0.25  0.23  0.24  0.24  0.26  0.24  0.23\n",
      "   0.25  0.22  0.23  0.22  0.22 -0.    0.15]\n",
      " [ 0.07  0.26  0.29  0.28  0.27  0.26  0.27  0.3   0.29  0.3   0.29  0.24\n",
      "   0.26  0.24  0.27  0.23  0.23  0.15 -0.  ]]\n"
     ]
    }
   ],
   "source": [
    "# À remplir\n",
    "\n",
    "def distance(s1, s2):\n",
    "    if len(s1) != len(s2):\n",
    "        raise ValueError(\"Strand lengths are not equal!\")\n",
    "    return sum(ch1 != ch2 and ch1!='-' and ch2!='-' for ch1,ch2 in zip(s1,s2))\n",
    "    \n",
    "def matrice_distance(dicti):\n",
    "    taille = len(dicti)\n",
    "    matrice_distance = [ [ 0 for i in range(taille) ] for j in range(taille) ] # col puis lig\n",
    "    \n",
    "    liste_sequences = list(dicti.values())\n",
    "    \n",
    "    #for valeur in dicti.values():\n",
    "    for i in range(0,taille): # ligne\n",
    "        for j in range(0,taille): # colonne\n",
    "            matrice_distance[i][j] = round((-3/4) * np.log(1-(4/3)*(distance(liste_sequences[i-1], liste_sequences[j-1])/len(liste_sequences[i-1]))), 2)            \n",
    "    return np.array(matrice_distance)\n",
    "\n",
    "print(matrice_distance(monDi))"
   ]
  },
  {
   "cell_type": "markdown",
   "metadata": {},
   "source": [
    "------\n",
    "## Construction d'un arbre avec UPGMA\n",
    "\n",
    "Grâce aux mesures de distances entre les séquences, on peut maintenant de construire l'arbre phylogénétique des globines. Vous allez devoir pour cela implémenter l'algorithme UPGMA (*unweighted pair group method with arithmetic mean*) qui, malgré son nom compliqué, est l'une des méthodes les plus simples pour la construction d'arbre.\n",
    "\n",
    "### Le format Newick\n",
    "\n",
    "Le format Newick est l'un des formats utilisé en phylogénie pour représenter un arbre sous la forme d'une chaine de caractère. Le principe est simple, les groupes ayant la même racine sont écrit entre parenthèses et séparés par des virgules. Un groupe peut être soit une feuille de l'arbre (dans notre cas une séquence), soit un autre groupe. La longueur de la branche de chaque groupe est écrite après un double point et l'arbre est terminé par un point virgule. Pour afficher l'arbre on peut utiliser les fonction du package ETE : "
   ]
  },
  {
   "cell_type": "code",
   "execution_count": 6,
   "metadata": {
    "scrolled": true
   },
   "outputs": [
    {
     "ename": "ModuleNotFoundError",
     "evalue": "No module named 'ete3'",
     "output_type": "error",
     "traceback": [
      "\u001b[1;31m---------------------------------------------------------------------------\u001b[0m",
      "\u001b[1;31mModuleNotFoundError\u001b[0m                       Traceback (most recent call last)",
      "\u001b[1;32m~\\AppData\\Local\\Temp/ipykernel_9120/311434567.py\u001b[0m in \u001b[0;36m<module>\u001b[1;34m\u001b[0m\n\u001b[1;32m----> 1\u001b[1;33m \u001b[1;32mfrom\u001b[0m \u001b[0mete3\u001b[0m \u001b[1;32mimport\u001b[0m \u001b[0mTree\u001b[0m\u001b[1;33m,\u001b[0m \u001b[0mTreeStyle\u001b[0m \u001b[1;31m# ligne\u001b[0m\u001b[1;33m\u001b[0m\u001b[1;33m\u001b[0m\u001b[0m\n\u001b[0m\u001b[0;32m      2\u001b[0m \u001b[1;33m\u001b[0m\u001b[0m\n\u001b[0;32m      3\u001b[0m \u001b[0mnewick_tree\u001b[0m \u001b[1;33m=\u001b[0m \u001b[1;34m'((A:2,(B:2,C:3):5):5,D:4);'\u001b[0m\u001b[1;33m\u001b[0m\u001b[1;33m\u001b[0m\u001b[0m\n\u001b[0;32m      4\u001b[0m \u001b[0mt\u001b[0m \u001b[1;33m=\u001b[0m \u001b[0mTree\u001b[0m\u001b[1;33m(\u001b[0m\u001b[0mnewick_tree\u001b[0m\u001b[1;33m)\u001b[0m\u001b[1;33m\u001b[0m\u001b[1;33m\u001b[0m\u001b[0m\n\u001b[0;32m      5\u001b[0m \u001b[0mts\u001b[0m \u001b[1;33m=\u001b[0m \u001b[0mTreeStyle\u001b[0m\u001b[1;33m(\u001b[0m\u001b[1;33m)\u001b[0m\u001b[1;33m\u001b[0m\u001b[1;33m\u001b[0m\u001b[0m\n",
      "\u001b[1;31mModuleNotFoundError\u001b[0m: No module named 'ete3'"
     ]
    }
   ],
   "source": [
    "from ete3 import Tree, TreeStyle # ligne\n",
    "\n",
    "newick_tree = '((A:2,(B:2,C:3):5):5,D:4);' \n",
    "t = Tree(newick_tree)\n",
    "ts = TreeStyle()\n",
    "ts.show_branch_length = True\n",
    "t.render('%%inline', w=183, units='mm', tree_style=ts)"
   ]
  },
  {
   "cell_type": "markdown",
   "metadata": {},
   "source": [
    "**Exercice 5 :** Reécriver l'arbre suivant au format Newick puis afficher-le. Les nombres correspondent aux longueurs des branches :\n",
    "![](tree.png)"
   ]
  },
  {
   "cell_type": "code",
   "execution_count": null,
   "metadata": {},
   "outputs": [],
   "source": [
    "newick_tree = '((A:10,B:8,C:7):5,(D:9,(E:5,F:5):2):2);' \n",
    "t = Tree(newick_tree)\n",
    "ts = TreeStyle()\n",
    "ts.show_branch_length = True\n",
    "t.render('%%inline', w=183, units='mm', tree_style=ts)"
   ]
  },
  {
   "cell_type": "markdown",
   "metadata": {},
   "source": [
    "**Exercice 6 :** Expliquer la relation de parenté entre $A$, $B$ et $C$ ? Qu'elles sont les hypothèses qui pourraient expliquer ce type d'embranchement dans un arbre ? Donner une réponse détaillée."
   ]
  },
  {
   "cell_type": "markdown",
   "metadata": {},
   "source": [
    "Réponse : C'est un groupe polyphylétique puisque l'on considère A,B et C mais pas leur ancêtre commun. On pourrait expliquer ce type d'embranchement dans un arbre par une espèce qui a donné des descendants A, B et C dans plusieurs environnements, ceux-ci se sont par la suite adaptés à chacun de leur environnement, formant ainsi une spécialisation dans l'arbre."
   ]
  },
  {
   "cell_type": "markdown",
   "metadata": {},
   "source": [
    "### UPGMA\n",
    "\n",
    "L'algorithme UPGMA se base sur la matrice de distance entre les séquences. À chaque itération, les séquences avec la distance la plus faible sont regroupées puis une nouvelle matrice de distance est calculée avec le nouveau groupe. Cette étape est répétée jusqu'à n'avoir plus qu'un seul groupe. Par exemple, avec la matrice de distance entre les séquences $A$, $B$, $C$ et $D$ suivante :\n",
    "\n",
    "|   &nbsp;   | A | B | C | D |\n",
    "|   -   | - | - | - | - |\n",
    "| **A** | &nbsp; | &nbsp; | &nbsp; | &nbsp; |\n",
    "| **B** | 4 | &nbsp; | &nbsp; | &nbsp; |\n",
    "| **C** | 8 | 8 | &nbsp; | &nbsp; |\n",
    "| **D** | 2 | 4 | 8 | &nbsp; |\n",
    "\n",
    "Les séquences $A$ et $D$ sont les plus proches ($distance(A,D)=2$). On les regroupe et on met à jour la matrice :\n",
    "\n",
    "|   &nbsp;   | (A, D) | B | C |\n",
    "|   -   | - | - | - |\n",
    "| **(A, D)** | &nbsp; | &nbsp; | &nbsp; |\n",
    "| **B** | 4 | &nbsp; | &nbsp; |\n",
    "| **C** | 8 | 8 | &nbsp; | &nbsp; |\n",
    "\n",
    "On regroupe maintenant $(A,D)$ et $B$ ($distance((A,D),B) = 4$) :\n",
    "\n",
    "|   &nbsp;   | ((A, D), B) | C |\n",
    "|   -   | - | - |\n",
    "| **((A, D), B)** | &nbsp; | &nbsp; |\n",
    "| **C** | 8 | &nbsp; |\n",
    "\n",
    "Important : les nouvelles distances sont calculées en moyennant les distances entre les membres du nouveau groupe et des groupes non modifiés pondéré par le nombre d'UTOs dans chaque groupe. Avec $i$ et $j$ les deux membres du groupe nouvellement formé et k les groupes restant : $d_{ij,k} = \\frac{n_id_{ik}}{n_i + n_j}+ \\frac{n_jd_{jk}}{n_i + n_j}$. Par exemple avec la distance entre $((A, D), B)$ et $C$:\n",
    "\n",
    "$distance(((A, D), B), C) = (distance((A, D), C)*2 + distance(B, C)) \\mathbin{/} 3 = (8*2 + 8) \\mathbin{/} 3 = 8 $.\n",
    "\n",
    "L'arbre final écrit dans le format Newick est : $((A, D), B), C);$ \n",
    "\n",
    "Et avec les distances : $((A:1, D:1):1, B:2):2, C:4);$ \n",
    "\n",
    "**Exercice 7 :** Implémenter une version d'UPGMA qui calcule l'arbre au format Newick **avec les distances** puis appliquer votre algorithme aux données. "
   ]
  },
  {
   "cell_type": "code",
   "execution_count": 8,
   "metadata": {
    "scrolled": true
   },
   "outputs": [
    {
     "data": {
      "text/plain": [
       "'(((((A:0.035,S:0.035):0.07):0.06,R:0.06):0.12):0.11,P:0.11):0.22):0.11,Q:0.11):0.22):0.125,(((B:0.075,(E:0.065,F:0.065):0.13):0.075):0.15):0.07703125000000001,(((((D:0.035,L:0.035):0.07):0.045,K:0.045):0.09):0.05,G:0.05):0.1):0.054375,((H:0.005,J:0.005):0.01):0.0075,I:0.0075):0.015):0.054375):0.10875):0.065,(M:0.05,(N:0.04,O:0.04):0.08):0.05):0.1):0.065):0.13):0.07703125000000001):0.15406250000000002):0.09,C:0.09):0.18):0.125):0.25));'"
      ]
     },
     "execution_count": 8,
     "metadata": {},
     "output_type": "execute_result"
    }
   ],
   "source": [
    "import numpy as np\n",
    "\n",
    "def min_matrice(md):\n",
    "    md[md == 0] = np.nan\n",
    "    dmin = np.nanmin(md)\n",
    "    i,j = np.where(md == dmin)\n",
    "    return dmin,i[0],j[0]\n",
    "\n",
    "def calcul_distance(md,cmin,rmin):\n",
    "    for col in range(0,len(md)):\n",
    "        if(rmin != col):\n",
    "            md[rmin,col] = (md[rmin,col] + md[cmin,col])/2\n",
    "    for row in range(0, len(md)):\n",
    "        if(cmin != row):\n",
    "            md[row,cmin] = (md[row,cmin] + md[row,rmin])/2 \n",
    "    return md\n",
    "    \n",
    "def upgma(md):\n",
    "    #noms_sequences = tuple(list(monDi.keys())) # tuple pour modifier plus facilement les données\n",
    "    lettres = list('ABCDEFGHIJKLMNOPQRS')\n",
    "    md[md == 0] = np.nan      \n",
    "    while len(lettres)>1:       \n",
    "        dmin,rmin,cmin = min_matrice(md)              \n",
    "        if(cmin < rmin):\n",
    "            rmin,cmin=cmin,rmin    \n",
    "        md = calcul_distance(md,cmin,rmin)\n",
    "        md = np.delete(md, cmin, axis = 0) # row\n",
    "        md = np.delete(md, cmin, axis = 1) # col           \n",
    "        lettres = ['('+lettres[rmin]+':'+str(dmin/2)+','+lettres[cmin]+':'+str(dmin/2)+')'+':'+str(dmin)+')' if lettres[e] == lettres[rmin] else lettres[e] for e in range(0,len(lettres))]\n",
    "        #lettres = ['('+lettres[rmin]+','+lettres[cmin]+')' if lettres[e] == lettres[rmin] else lettres[e] for e in range(0,len(lettres))]\n",
    "        lettres.remove(lettres[cmin])\n",
    "    arbre = (lettres[0]+');')\n",
    "    return arbre\n",
    "\n",
    "upgma(np.array(matrice_distance(monDi)))"
   ]
  },
  {
   "cell_type": "markdown",
   "metadata": {},
   "source": [
    "**Exercice 8 :** Quelles sont les hypothèses faites par UPGMA ? Semblent-elles respectées dans le cas présent ?"
   ]
  },
  {
   "cell_type": "markdown",
   "metadata": {},
   "source": [
    "Réponse :  \n",
    "- La même quantité d’évolution s’est produite dans chaque lignée évolutive depuis leur ancêtre commun à toutes.\n",
    "- Les distances évolutives entre chaque feuille et la racine sont égales.\n",
    "- La racine est placée au point de l’arbre équidistant de toutes les feuilles."
   ]
  },
  {
   "cell_type": "markdown",
   "metadata": {},
   "source": [
    "----\n",
    "## Enracinement de l'arbre\n",
    "\n",
    "Après avoir utilisé UPGMA pour réaliser votre arbre, l'enracinement s'est normalement fait au poids moyen. \n",
    "\n",
    "**Exercice 9 :** Quelle autre méthode est-il possible d'utiliser pour enraciner un arbre ? Pouvez-vous l'utilisez ici ? Si oui, afficher le nouvel arbre."
   ]
  },
  {
   "cell_type": "markdown",
   "metadata": {},
   "source": [
    "Réponse : On peut utiliser l'enracinement avec un groupe extérieur."
   ]
  },
  {
   "cell_type": "markdown",
   "metadata": {},
   "source": [
    "----\n",
    "## Neighbor-joining\n",
    "\n",
    "Le neighbor-joining est un autre algorithme permettant de calculer un arbre phylogénique à partir d'une matrice de distance. Il a l'avantage de faire moins d'hypothèse qu'UPGMA sur les données (elles ne sont plus forcément ultramétrique) et il donne donc de meilleurs arbres dans presque tout les cas. Vous trouverez un example d'application de cet algorithme [ici](http://www.evolution-textbook.org/content/free/tables/Ch_27/T11_EVOW_Ch27.pdf).\n",
    "\n",
    "**Exercice 10 :** Implémenter l'algorithme du neighbor-joining, appliquer-le aux données puis enraciner l'arbre."
   ]
  },
  {
   "cell_type": "code",
   "execution_count": null,
   "metadata": {},
   "outputs": [],
   "source": [
    "# À remplir"
   ]
  },
  {
   "cell_type": "markdown",
   "metadata": {},
   "source": [
    "----\n",
    "## Bootstrap\n",
    "\n",
    "Le bootstrap est une méthode permettant de calculer la robustesse des branches d'un arbre. Il sagit de recréer un jeu de données artificiel en tirant n positions dans l'alignement des séquences avec remise, n étant la longueur de l'alignement. On recréer un arbre à partir de ces nouvelles données puis on le compare avec l'arbre obtenu avec les données réelles. Si une branche de l'arbre réelle est présente dans l'arbre artificiel, son bootstrap augmente de 1. On répètera la procédure 100 fois afin d'avoir un score sur 100 pour chaque branche.\n",
    "\n",
    "**Exercice 11 :** Calculer le bootstrap des branches des arbres obtenus avec UPGMA et neighbor-joining."
   ]
  },
  {
   "cell_type": "code",
   "execution_count": null,
   "metadata": {},
   "outputs": [],
   "source": [
    "# À remplir"
   ]
  },
  {
   "cell_type": "markdown",
   "metadata": {},
   "source": [
    "----\n",
    "## Conclusion\n",
    "\n",
    "**Exercice 12 :** Quelles sont vos conclusions par rapport à l'arbre phylogénique de _smilodon_, _homotherium_ et _M. trumani_ ? Comparer les deux méthodes. Comment expliquer les caractéristiques morphologiques similaires entre ces trois espèces ? Une réponse détaillée est attendue."
   ]
  },
  {
   "cell_type": "markdown",
   "metadata": {
    "collapsed": true
   },
   "source": [
    "Réponse :"
   ]
  }
 ],
 "metadata": {
  "kernelspec": {
   "display_name": "Python 3 (ipykernel)",
   "language": "python",
   "name": "python3"
  },
  "language_info": {
   "codemirror_mode": {
    "name": "ipython",
    "version": 3
   },
   "file_extension": ".py",
   "mimetype": "text/x-python",
   "name": "python",
   "nbconvert_exporter": "python",
   "pygments_lexer": "ipython3",
   "version": "3.9.7"
  },
  "toc": {
   "base_numbering": 1,
   "nav_menu": {},
   "number_sections": true,
   "sideBar": true,
   "skip_h1_title": false,
   "title_cell": "Table of Contents",
   "title_sidebar": "Contents",
   "toc_cell": false,
   "toc_position": {},
   "toc_section_display": true,
   "toc_window_display": false
  },
  "varInspector": {
   "cols": {
    "lenName": 16,
    "lenType": 16,
    "lenVar": 40
   },
   "kernels_config": {
    "python": {
     "delete_cmd_postfix": "",
     "delete_cmd_prefix": "del ",
     "library": "var_list.py",
     "varRefreshCmd": "print(var_dic_list())"
    },
    "r": {
     "delete_cmd_postfix": ") ",
     "delete_cmd_prefix": "rm(",
     "library": "var_list.r",
     "varRefreshCmd": "cat(var_dic_list()) "
    }
   },
   "types_to_exclude": [
    "module",
    "function",
    "builtin_function_or_method",
    "instance",
    "_Feature"
   ],
   "window_display": false
  }
 },
 "nbformat": 4,
 "nbformat_minor": 2
}
